{
 "cells": [
  {
   "cell_type": "markdown",
   "metadata": {},
   "source": [
    "# Understanding the MelSpectrogram\n",
    "\n",
    "Here are a couple of cells that let you explore how the spectrograms look like, and easily idetefie potential problems. \n",
    "\n",
    "\n",
    "At the bottom of the note book we included the possebility to change the parameters that are used to calculate the spectrograms. These varialbes are used when generating the spectrum AND when ``running`` the network in realtime. That means onece you change it, you need to retrain your network to understand the new changes. "
   ]
  },
  {
   "cell_type": "code",
   "execution_count": null,
   "metadata": {
    "ExecuteTime": {
     "end_time": "2020-08-02T20:01:10.046760Z",
     "start_time": "2020-08-02T20:01:09.178710Z"
    },
    "scrolled": true
   },
   "outputs": [],
   "source": [
    "Type=\"INTERFACE\"\n",
    "exec(open(\"../helperFunctions.py\",\"rb\").read())"
   ]
  },
  {
   "cell_type": "code",
   "execution_count": null,
   "metadata": {
    "ExecuteTime": {
     "end_time": "2020-08-02T20:01:24.608821Z",
     "start_time": "2020-08-02T20:01:23.121368Z"
    },
    "scrolled": false
   },
   "outputs": [],
   "source": [
    "pictures = GenerateSpectrums(FileSelection.value)\n",
    "fig, axs = plt.subplots(2,5, figsize=(15, 6), facecolor='w', edgecolor='k')\n",
    "axs = axs.ravel()\n",
    "counter=0\n",
    "for pic in pictures:\n",
    "    if(counter>=len(axs)):\n",
    "        print(\"There where more pictures generated but I only could show these 10. Image count = \",len(pictures))\n",
    "        break;\n",
    "    axs[counter].imshow(pic)\n",
    "    counter+=1\n",
    "x,sr= librosa.load(FileSelection.value,mono=True)\n",
    "ipd.Audio(x,rate=sr)"
   ]
  },
  {
   "cell_type": "markdown",
   "metadata": {},
   "source": [
    "## Spectrum Settings new settings\n",
    "\n",
    "Changeing the settings can be done either by chaning the file ```SpectrumVarialbes.csv``` in the main folder, or by running the next two cells.\n"
   ]
  },
  {
   "cell_type": "code",
   "execution_count": null,
   "metadata": {},
   "outputs": [],
   "source": [
    "##SpectrographVariables\n",
    "SpectrumVariables={}\n",
    "SpectrumVariables[\"RESOLUTION\"] =224\n",
    "SpectrumVariables[\"SAMPLE_RATE\"]=22500\n",
    "SpectrumVariables[\"N_FFT\"]=1024\n",
    "SpectrumVariables[\"N_MELS\"]=224\n",
    "SpectrumVariables[\"HOP_LENGTH\"]=128\n",
    "SpectrumVariables[\"FMIN\"]=10\n",
    "SpectrumVariables[\"FMAX\"]=int(22050/2)\n",
    "SpectrumVariables[\"POWER\"]=2"
   ]
  },
  {
   "cell_type": "code",
   "execution_count": null,
   "metadata": {},
   "outputs": [],
   "source": [
    "with open('../SpectrumVariables.csv', 'w', newline='') as csvfile:\n",
    "    writer = csv.DictWriter(csvfile, fieldnames=SpectrumVariables.keys())\n",
    "    writer.writeheader()\n",
    "    writer.writerow(SpectrumVariables)"
   ]
  },
  {
   "cell_type": "code",
   "execution_count": null,
   "metadata": {},
   "outputs": [],
   "source": []
  }
 ],
 "metadata": {
  "kernelspec": {
   "display_name": "Python 3",
   "language": "python",
   "name": "python3"
  },
  "language_info": {
   "codemirror_mode": {
    "name": "ipython",
    "version": 3
   },
   "file_extension": ".py",
   "mimetype": "text/x-python",
   "name": "python",
   "nbconvert_exporter": "python",
   "pygments_lexer": "ipython3",
   "version": "3.7.3"
  },
  "toc": {
   "base_numbering": 1,
   "nav_menu": {},
   "number_sections": true,
   "sideBar": true,
   "skip_h1_title": false,
   "title_cell": "Table of Contents",
   "title_sidebar": "Contents",
   "toc_cell": false,
   "toc_position": {},
   "toc_section_display": true,
   "toc_window_display": false
  }
 },
 "nbformat": 4,
 "nbformat_minor": 2
}
