{
 "cells": [
  {
   "cell_type": "markdown",
   "metadata": {},
   "source": [
    "# Generating Images\n",
    "\n",
    "The entire approach hinges on the concept of converting audio into images.\n",
    "This notebook generates all the spectrograms for the different files.\n",
    "\n",
    "Additionally, it also seperates out the audio data into a training and test sets.\n",
    "Its important to sperate the audio files and not the generated spectrums.\n",
    "\n",
    "---\n",
    "\n",
    "This notebook needs very little input. Once you added a new class to the ``AudioData`` folder you can just run all the cells one after the other. The last cells will take a while depended on how much audio data you have in the ``AudioData`` Folder. \n",
    "\n",
    "Have a look at the ``AudioData`` folder and the ``GeneratedData`` folder as its processing.\n",
    "\n"
   ]
  },
  {
   "cell_type": "code",
   "execution_count": null,
   "metadata": {
    "ExecuteTime": {
     "end_time": "2020-08-02T21:19:53.251418Z",
     "start_time": "2020-08-02T21:19:53.242381Z"
    }
   },
   "outputs": [],
   "source": [
    "Type=\"GENERATE\"  #For loading our helper functions we tell the sytem that we are planning to Generate images\n",
    "from subprocess import Popen # We need a specific library for running the images generation in parrallel\n",
    "exec(open(\"../helperFunctions.py\",\"rb\").read())"
   ]
  },
  {
   "cell_type": "markdown",
   "metadata": {},
   "source": [
    "The next cell defines the folder paths to both the source folder where the audio is stored and the folder where the generated images should go.\n",
    "\n",
    "At a later stage you can define different folders for specifc projects or the like. For now just keep it."
   ]
  },
  {
   "cell_type": "code",
   "execution_count": null,
   "metadata": {
    "ExecuteTime": {
     "end_time": "2020-08-02T21:19:53.757150Z",
     "start_time": "2020-08-02T21:19:53.753182Z"
    }
   },
   "outputs": [],
   "source": [
    "SOURCE_DATA_ROOT='../AudioData/' \n",
    "GENERATED_DATA_ROOT='../GeneratedData/'"
   ]
  },
  {
   "cell_type": "markdown",
   "metadata": {},
   "source": [
    "The next cell does all the work. \n",
    "\n",
    "In general what we do is, we split each class i.e. each folder into a rough 80%/20% split. 80% of the audio files get put into a training folder, while 20% get put into a testing folder. You can see that structure in the ```GeneratedData``` folder once its done. But, we don't just copy the audio files we use librosas mel spectrum function to generate a spectrogram and store that in the respective training or testing folder. [Librosa docs](https://librosa.org/doc/latest/generated/librosa.feature.melspectrogram.html?highlight=mel#librosa.feature.melspectrogram)"
   ]
  },
  {
   "cell_type": "code",
   "execution_count": null,
   "metadata": {
    "ExecuteTime": {
     "start_time": "2020-08-02T21:19:54.739Z"
    }
   },
   "outputs": [],
   "source": [
    "ToDoList=[]\n",
    "SourceFoldersLabels = [f.path for f in os.scandir(SOURCE_DATA_ROOT) if f.is_dir()]\n",
    "for path in SourceFoldersLabels:\n",
    "    FileList = np.array([f.path for f in os.scandir(path) if f.is_file() and (f.name.endswith(\".aif\") or f.name.endswith(\".flac\") or f.name.endswith(\".wav\") or f.name.endswith(\".m4a\") or f.name.endswith(\".mp3\"))])\n",
    "    Label = os.path.split(path)[-1]\n",
    "    OutFolderTrain = os.path.join(GENERATED_DATA_ROOT,Label,'train')\n",
    "    OutFolderTest = os.path.join(GENERATED_DATA_ROOT,Label,'test')\n",
    "    if not os.path.exists(OutFolderTrain):\n",
    "        os.makedirs(OutFolderTrain)\n",
    "    if not os.path.exists(OutFolderTest):\n",
    "        os.makedirs(OutFolderTest)\n",
    "    np.random.shuffle(FileList)\n",
    "    trainCount =np.int(np.floor(0.8*FileList.shape[0]))\n",
    "    train_set = FileList[:trainCount]\n",
    "    test_set = FileList[trainCount:]\n",
    "    for f in train_set:\n",
    "        ToDoList.append((os.path.abspath(f),os.path.abspath(OutFolderTrain)))\n",
    "    for f in test_set:\n",
    "        ToDoList.append((os.path.abspath(f),os.path.abspath(OutFolderTest)))\n",
    "    print(\"Finished class\",Label,\". Going to the next.\")\n",
    "Commands = [[sys.executable, \"../helperFunctions.py\",t[0],t[1]] for t in ToDoList]\n",
    "print(\"Done Creating our ToDoList. I'll start computing now, hold on.\")\n",
    "tempArray=[]\n",
    "for i in range(len(Commands)):\n",
    "    tempArray.append(Commands[i])\n",
    "    if(len(tempArray)>=12):  ## <= To optimize you can type in here how many CPU cores/threads you have \n",
    "        procs = [Popen(j) for j in tempArray ]\n",
    "        for p in procs:\n",
    "            p.wait()\n",
    "        tempArray=[]\n",
    "\n",
    "procs = [ Popen(j) for j in tempArray ]\n",
    "for p in procs:\n",
    "    p.communicate() \n",
    "print(\"All Done.\")"
   ]
  },
  {
   "cell_type": "code",
   "execution_count": null,
   "metadata": {},
   "outputs": [],
   "source": []
  }
 ],
 "metadata": {
  "kernelspec": {
   "display_name": "Python 3",
   "language": "python",
   "name": "python3"
  },
  "language_info": {
   "codemirror_mode": {
    "name": "ipython",
    "version": 3
   },
   "file_extension": ".py",
   "mimetype": "text/x-python",
   "name": "python",
   "nbconvert_exporter": "python",
   "pygments_lexer": "ipython3",
   "version": "3.7.3"
  },
  "toc": {
   "base_numbering": 1,
   "nav_menu": {},
   "number_sections": true,
   "sideBar": true,
   "skip_h1_title": false,
   "title_cell": "Table of Contents",
   "title_sidebar": "Contents",
   "toc_cell": false,
   "toc_position": {},
   "toc_section_display": true,
   "toc_window_display": false
  }
 },
 "nbformat": 4,
 "nbformat_minor": 2
}
