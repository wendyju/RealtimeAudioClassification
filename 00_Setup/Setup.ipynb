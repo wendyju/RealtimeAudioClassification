{
 "cells": [
  {
   "cell_type": "markdown",
   "metadata": {},
   "source": [
    "## Install Libraries\n",
    "\n",
    "We will install the software libraries necessary for this week's tutorials, and test them to make sure they work.\n",
    "\n",
    "You can try to install all  required componenets by running the comand below.\n",
    "\n",
    "If that does not work you can slo use command-line or terminal. Have alook at the linked page for more detail. [the linked wiki page will help you](https://github.com/DavidGoedicke/RealtimeAudioClassification/wiki/Command-lines-and-terminals-a-quick-introduction.md)\n",
    "\n",
    "The libraries that we will use.\n",
    "\n",
    "[NumPy](https://en.wikipedia.org/wiki/NumPy) (Python support for large, multi-dimensional arrays and matrices ).\n",
    "\n",
    "[MatplotLib](https://matplotlib.org) (Python 2D plotting library).\n",
    "\n",
    "[pyTorch](https://pytorch.org/get-started/locally/) (Python Machine Learning Library).\n",
    "\n",
    "[sklearn](https://scikit-learn.org/stable/) (SciKit Machine Learning library).\n",
    "\n",
    "[librosa](https://librosa.github.io/librosa/) (Music and Audio analysis library).\n",
    "\n",
    "[PyAudio](https://people.csail.mit.edu/hubert/pyaudio/) (Python bindings for PortAudio, the cross-platform audio I/O library).\n"
   ]
  },
  {
   "cell_type": "code",
   "execution_count": null,
   "metadata": {
    "ExecuteTime": {
     "end_time": "2020-07-25T23:31:05.053465Z",
     "start_time": "2020-07-25T23:31:03.809821Z"
    },
    "scrolled": true
   },
   "outputs": [],
   "source": [
    "pip install numpy matplotlib torch torchvision scikit-learn librosa pyaudio numpy_ringbuffer ipywidgets"
   ]
  },
  {
   "cell_type": "markdown",
   "metadata": {},
   "source": [
    "## Test setup\n",
    "\n",
    "In the code below, we load (\"import\") the libraries that we just installed above, to make sure that Python can find the libraries. \n"
   ]
  },
  {
   "cell_type": "code",
   "execution_count": null,
   "metadata": {
    "ExecuteTime": {
     "end_time": "2020-08-02T19:47:07.952567Z",
     "start_time": "2020-08-02T19:47:06.890917Z"
    }
   },
   "outputs": [],
   "source": [
    "import csv\n",
    "import os\n",
    "import wave\n",
    "import time\n",
    "import multiprocessing\n",
    "from threading import Thread\n",
    "import os\n",
    "print(\"-------Found all built-in libraries.-------\")\n",
    "import numpy as np\n",
    "print(\"Found numpy \",np.__version__)\n",
    "import matplotlib\n",
    "print(\"Found matplotlib \",matplotlib.__version__)\n",
    "print(\"-------Found all math libraries.-------\")\n",
    "import pyaudio\n",
    "print(\"Found pyaudio \",pyaudio.__version__)\n",
    "import librosa\n",
    "print(\"Found librosa \",librosa.__version__)\n",
    "print(\"-------Found all audio libraries.-------\")\n",
    "import torch\n",
    "print(\"Found torch \",torch.__version__)\n",
    "from torchvision import datasets, transforms, models\n",
    "from sklearn.metrics import confusion_matrix\n",
    "print(\"-------Found all machine learning libraries.-------\")\n"
   ]
  },
  {
   "cell_type": "markdown",
   "metadata": {},
   "source": [
    "If the above code runs without a problem, all libraries have installed and can be loaded. While it does not gurantee that everything will work, this is a very good sign.\n"
   ]
  }
 ],
 "metadata": {
  "kernelspec": {
   "display_name": "Python 3",
   "language": "python",
   "name": "python3"
  },
  "language_info": {
   "codemirror_mode": {
    "name": "ipython",
    "version": 3
   },
   "file_extension": ".py",
   "mimetype": "text/x-python",
   "name": "python",
   "nbconvert_exporter": "python",
   "pygments_lexer": "ipython3",
   "version": "3.7.3"
  },
  "toc": {
   "base_numbering": 1,
   "nav_menu": {},
   "number_sections": true,
   "sideBar": true,
   "skip_h1_title": false,
   "title_cell": "Table of Contents",
   "title_sidebar": "Contents",
   "toc_cell": false,
   "toc_position": {},
   "toc_section_display": true,
   "toc_window_display": false
  }
 },
 "nbformat": 4,
 "nbformat_minor": 2
}
